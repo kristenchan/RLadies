{
 "cells": [
  {
   "cell_type": "markdown",
   "metadata": {
    "slideshow": {
     "slide_type": "slide"
    }
   },
   "source": [
    "# How to use Jupyter Slideshow\n",
    "\n",
    "\n",
    "## Kristen Chan"
   ]
  },
  {
   "cell_type": "markdown",
   "metadata": {
    "slideshow": {
     "slide_type": "slide"
    }
   },
   "source": [
    "# Step1. Download reveal.js\n",
    "\n",
    "<img src=\"Slideshow_Tutorial_plot/slideshow_1.png\" alt=\"download reveal.js\" title=\"download reveal.js\"/>"
   ]
  },
  {
   "cell_type": "markdown",
   "metadata": {
    "slideshow": {
     "slide_type": "slide"
    }
   },
   "source": [
    "# Step2. Open Python3 notebook\n",
    "\n",
    "<img src=\"Slideshow_Tutorial_plot/slideshow_2.png\" alt=\"open python3 notebook\" title=\"open python3 notebook\"/>"
   ]
  },
  {
   "cell_type": "markdown",
   "metadata": {
    "slideshow": {
     "slide_type": "slide"
    }
   },
   "source": [
    "# Step3. Open Slideshow\n",
    "\n",
    "<img src=\"Slideshow_Tutorial_plot/slideshow_3.png\" alt=\"open slideshow\" title=\"open slideshow\"/>"
   ]
  },
  {
   "cell_type": "markdown",
   "metadata": {
    "slideshow": {
     "slide_type": "slide"
    }
   },
   "source": [
    "# Step4. Render slide\n",
    "\n",
    "<img src=\"Slideshow_Tutorial_plot/slideshow_4.png\" alt=\"render slide\" title=\"render slide\"/>"
   ]
  }
 ],
 "metadata": {
  "celltoolbar": "Slideshow",
  "kernelspec": {
   "display_name": "Python 3",
   "language": "python",
   "name": "python3"
  },
  "language_info": {
   "codemirror_mode": {
    "name": "ipython",
    "version": 3
   },
   "file_extension": ".py",
   "mimetype": "text/x-python",
   "name": "python",
   "nbconvert_exporter": "python",
   "pygments_lexer": "ipython3",
   "version": "3.5.1"
  }
 },
 "nbformat": 4,
 "nbformat_minor": 2
}
