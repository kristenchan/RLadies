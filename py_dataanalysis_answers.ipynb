{
 "cells": [
  {
   "cell_type": "markdown",
   "metadata": {},
   "source": [
    "# <div class=\"alert alert-block alert-info\"> Ch1 </div>"
   ]
  },
  {
   "cell_type": "markdown",
   "metadata": {},
   "source": [
    "## Exercise_1\n",
    "現在台北溫度是 19℃，請將℃ 轉成 ℉"
   ]
  },
  {
   "cell_type": "code",
   "execution_count": 1,
   "metadata": {},
   "outputs": [
    {
     "name": "stdout",
     "output_type": "stream",
     "text": [
      "66.2\n"
     ]
    }
   ],
   "source": [
    "Taipei_Celsius = 19\n",
    "\n",
    "Taipei_Fahrenheit = Taipei_Celsius * (9/5) + 32\n",
    "\n",
    "print(Taipei_Fahrenheit)"
   ]
  },
  {
   "cell_type": "markdown",
   "metadata": {},
   "source": [
    "## Exercise_2\n",
    "請將 weather_list[9] 中的 list [‘North’] 後面加入一個風力 2 級 的資訊\n",
    "```python\n",
    "[ 'North' , 2 ]\n",
    "```"
   ]
  },
  {
   "cell_type": "code",
   "execution_count": 3,
   "metadata": {
    "collapsed": true
   },
   "outputs": [],
   "source": [
    "weather_list = [ 'Taipei' , 18.5 , 'rainy' ]\n",
    "weather_list.append('80%')\n",
    "weather_list.append(['Northeast',4]) \n",
    "weather_list.extend(['Kaohsiung',25.9,'sunny','69%'])\n",
    "weather_list.append(('Northwest',3))\n",
    "weather_list.insert(5,'Taichung') \n",
    "weather_list.insert(6,21.5) \n",
    "weather_list.insert(7,'cloudy')\n",
    "weather_list.insert(8,'73%')\n",
    "weather_list.insert(9,['North'])"
   ]
  },
  {
   "cell_type": "code",
   "execution_count": 4,
   "metadata": {
    "scrolled": true
   },
   "outputs": [
    {
     "name": "stdout",
     "output_type": "stream",
     "text": [
      "['Taipei', 18.5, 'rainy', '80%', ['Northeast', 4], 'Taichung', 21.5, 'cloudy', '73%', ['North', 2], 'Kaohsiung', 25.9, 'sunny', '69%', ('Northwest', 3)]\n"
     ]
    }
   ],
   "source": [
    "weather_list[9].insert(len(weather_list[9]),2)\n",
    "print(weather_list)"
   ]
  },
  {
   "cell_type": "markdown",
   "metadata": {},
   "source": [
    "## Exercise_3\n",
    "創建一個 my_name 變數，並存入自己的名字\n",
    "接著利用 { } 與 format 的方法，print 出 <font color='blue'>Hello 你的名字 !!</font>\n",
    "\n",
    "> my_string = \"Hello {} !!\".format(my_name) <br>\n",
    "> <font color='green'>print</font>(my_string) <br>\n",
    "> Hello Kristen !!"
   ]
  },
  {
   "cell_type": "code",
   "execution_count": 1,
   "metadata": {},
   "outputs": [
    {
     "name": "stdout",
     "output_type": "stream",
     "text": [
      "Hello Kristen !!\n"
     ]
    }
   ],
   "source": [
    "my_name = \"Kristen\"\n",
    "my_string = \"Hello {} !!\".format(my_name)\n",
    "print(my_string)"
   ]
  },
  {
   "cell_type": "markdown",
   "metadata": {},
   "source": [
    "# <div class=\"alert alert-block alert-info\"> Ch2 </div>"
   ]
  },
  {
   "cell_type": "markdown",
   "metadata": {},
   "source": [
    "## Exercise_1\n",
    "利用 numpy 套件，計算 Keelung 未來一週的平均溫度\n",
    "```python\n",
    "Keelung ： 22, 20, 21, 18, 18, 19, 21\n",
    "```"
   ]
  },
  {
   "cell_type": "code",
   "execution_count": 3,
   "metadata": {
    "collapsed": true
   },
   "outputs": [],
   "source": [
    "import numpy as np\n",
    "Keelung = np.array([22,20,21,18,18,19,21])"
   ]
  },
  {
   "cell_type": "code",
   "execution_count": 4,
   "metadata": {
    "scrolled": true
   },
   "outputs": [
    {
     "name": "stdout",
     "output_type": "stream",
     "text": [
      "Keelung 未來一週的平均溫度 :  19.8571428571\n"
     ]
    }
   ],
   "source": [
    "print('Keelung 未來一週的平均溫度 : ',Keelung.mean())"
   ]
  },
  {
   "cell_type": "markdown",
   "metadata": {},
   "source": [
    "# <div class=\"alert alert-block alert-info\"> Ch3 </div>"
   ]
  },
  {
   "cell_type": "markdown",
   "metadata": {
    "collapsed": true
   },
   "source": [
    "## Exercise_1\n",
    "利用 in 及 if/else 判斷式，判斷 fruit 中有沒有 \"apple\"。\n",
    "如果有出現 \"apple\" 就 print 出 <font color='blue'>I find apple!</font> ，否則則 print 出 <font color='blue'>No apple.</font>\n",
    "```python\n",
    "fruit = ['banana', 'Wax apple','cherry', 'coconut', 'jujube', 'durian', 'grape', 'grapefruit', 'guava', 'lemon', 'pineapple', 'Watermelon', 'Kiwi', 'Orange', 'Longan', 'Blueberry', 'Mango']\n",
    "```"
   ]
  },
  {
   "cell_type": "code",
   "execution_count": 2,
   "metadata": {
    "collapsed": true
   },
   "outputs": [],
   "source": [
    "fruit = ['banana', 'Wax apple','cherry', 'coconut', 'jujube', 'durian', 'grape', 'grapefruit', 'guava', 'lemon', 'pineapple', 'Watermelon', 'Kiwi', 'Orange', 'Longan', 'Blueberry', 'Mango']"
   ]
  },
  {
   "cell_type": "code",
   "execution_count": 3,
   "metadata": {},
   "outputs": [
    {
     "name": "stdout",
     "output_type": "stream",
     "text": [
      "No apple.\n"
     ]
    }
   ],
   "source": [
    "if \"apple\" in fruit:\n",
    "    print('I find apple!')\n",
    "else:\n",
    "    print('No apple.')"
   ]
  },
  {
   "cell_type": "code",
   "execution_count": 4,
   "metadata": {},
   "outputs": [
    {
     "name": "stdout",
     "output_type": "stream",
     "text": [
      "I find apple!\n"
     ]
    }
   ],
   "source": [
    "if \"apple\" in \"pineapple\":\n",
    "    print('I find apple!')\n",
    "else:\n",
    "    print('No apple.')"
   ]
  },
  {
   "cell_type": "code",
   "execution_count": 5,
   "metadata": {
    "scrolled": true
   },
   "outputs": [
    {
     "name": "stdout",
     "output_type": "stream",
     "text": [
      "I find apple!\n"
     ]
    }
   ],
   "source": [
    "if \"apple\" in \"Wax apple\":\n",
    "    print('I find apple!')\n",
    "else:\n",
    "    print('No apple.')"
   ]
  },
  {
   "cell_type": "markdown",
   "metadata": {
    "collapsed": true
   },
   "source": [
    "## Exercise_2\n",
    "現在有一個未來一週 Taipei 的溫度，希望分別印出每一天的溫度\n",
    "```python\n",
    "Temperature_Taipei = [22 , 24 , 19, 19, 30, 21, 25]\n",
    "```"
   ]
  },
  {
   "cell_type": "code",
   "execution_count": 6,
   "metadata": {
    "collapsed": true
   },
   "outputs": [],
   "source": [
    "Temperature_Taipei = [22 , 24 , 19, 19, 30, 21, 25]"
   ]
  },
  {
   "cell_type": "markdown",
   "metadata": {},
   "source": [
    "A2.1 一個一個print"
   ]
  },
  {
   "cell_type": "code",
   "execution_count": 7,
   "metadata": {
    "scrolled": true
   },
   "outputs": [
    {
     "name": "stdout",
     "output_type": "stream",
     "text": [
      "22\n",
      "24\n",
      "19\n",
      "19\n",
      "30\n",
      "21\n",
      "25\n"
     ]
    }
   ],
   "source": [
    "print(Temperature_Taipei[0])\n",
    "print(Temperature_Taipei[1])\n",
    "print(Temperature_Taipei[2])\n",
    "print(Temperature_Taipei[3])\n",
    "print(Temperature_Taipei[4])\n",
    "print(Temperature_Taipei[5])\n",
    "print(Temperature_Taipei[6])"
   ]
  },
  {
   "cell_type": "markdown",
   "metadata": {},
   "source": [
    "A2.2 利用for"
   ]
  },
  {
   "cell_type": "code",
   "execution_count": 8,
   "metadata": {
    "scrolled": true
   },
   "outputs": [
    {
     "name": "stdout",
     "output_type": "stream",
     "text": [
      "22\n",
      "24\n",
      "19\n",
      "19\n",
      "30\n",
      "21\n",
      "25\n"
     ]
    }
   ],
   "source": [
    "for i in Temperature_Taipei:\n",
    "    print(i)"
   ]
  },
  {
   "cell_type": "markdown",
   "metadata": {
    "collapsed": true
   },
   "source": [
    "## Exercise_3\n",
    "依序印出 city_list 中的元素\n",
    "```python\n",
    "city_list = ['Taipei', ['Taichung',22],  {'Kaohsiung':25}]\n",
    "```\n",
    "> ***輸出不必是單一個值也可以是list或dictionary***"
   ]
  },
  {
   "cell_type": "code",
   "execution_count": 11,
   "metadata": {
    "collapsed": true
   },
   "outputs": [],
   "source": [
    "city_list = ['Taipei', ['Taichung',22], {'Kaohsiung':25}]"
   ]
  },
  {
   "cell_type": "markdown",
   "metadata": {},
   "source": [
    "**Method1.**"
   ]
  },
  {
   "cell_type": "code",
   "execution_count": 13,
   "metadata": {},
   "outputs": [
    {
     "name": "stdout",
     "output_type": "stream",
     "text": [
      "Taipei\n",
      "['Taichung', 22]\n",
      "{'Kaohsiung': 25}\n"
     ]
    }
   ],
   "source": [
    "city = ['Taipei', ['Taichung',22],  {'Kaohsiung':25}]\n",
    "for i in city:\n",
    "    print (i)"
   ]
  },
  {
   "cell_type": "markdown",
   "metadata": {},
   "source": [
    "**Method2.**"
   ]
  },
  {
   "cell_type": "code",
   "execution_count": 12,
   "metadata": {
    "scrolled": true
   },
   "outputs": [
    {
     "name": "stdout",
     "output_type": "stream",
     "text": [
      "Taipei\n",
      "['Taichung', 22]\n",
      "{'Kaohsiung': 25}\n"
     ]
    }
   ],
   "source": [
    "for i in range(len(city_list)):\n",
    "    print (city_list[i])"
   ]
  },
  {
   "cell_type": "markdown",
   "metadata": {
    "collapsed": true
   },
   "source": [
    "## Exercise_4\n",
    "利用 for statements 解決 List 不能 element-wise 運算的問題。希望將 Temperature_Taipei 中的所有溫度都轉成華氏\n",
    "```python\n",
    "Temperature_Taipei = [22, 24, 19, 19, 30, 21, 25]\n",
    "```\n",
    "> 公式： $Fahrenheit = Celsius × (9/5) + 32$"
   ]
  },
  {
   "cell_type": "code",
   "execution_count": 15,
   "metadata": {
    "collapsed": true
   },
   "outputs": [],
   "source": [
    "Temperature_Taipei = [22, 24, 19, 19, 30, 21, 25]"
   ]
  },
  {
   "cell_type": "code",
   "execution_count": 14,
   "metadata": {},
   "outputs": [
    {
     "name": "stdout",
     "output_type": "stream",
     "text": [
      "71.6\n",
      "75.2\n",
      "66.2\n",
      "66.2\n",
      "86.0\n",
      "69.80000000000001\n",
      "77.0\n"
     ]
    }
   ],
   "source": [
    "for i in Temperature_Taipei:\n",
    "    print(i * (9/5) + 32)"
   ]
  },
  {
   "cell_type": "code",
   "execution_count": 16,
   "metadata": {},
   "outputs": [
    {
     "name": "stdout",
     "output_type": "stream",
     "text": [
      "[71.6, 75.2, 66.2, 66.2, 86.0, 69.80000000000001, 77.0]\n"
     ]
    }
   ],
   "source": [
    "#將轉成華氏的結果存在一個list中\n",
    "Temperature_Taipei_Fahrenheit = []\n",
    "for i in Temperature_Taipei:\n",
    "    Temperature_Taipei_Fahrenheit.append( i * (9/5) + 32 )\n",
    "print(Temperature_Taipei_Fahrenheit)"
   ]
  },
  {
   "cell_type": "markdown",
   "metadata": {},
   "source": [
    "### Exercise_4\n",
    "利用 for 迴圈，計算 1 加到 100\n",
    "> 公式： $ Total = \\sum_{i=1}^{100} x_i $<br>\n",
    "> ***提示1：可以利用 range來建立一個1 到 100 的 list*** <br>\n",
    "> ***提示2：可以跟 sum( ) 對答案***"
   ]
  },
  {
   "cell_type": "code",
   "execution_count": 18,
   "metadata": {},
   "outputs": [
    {
     "data": {
      "text/plain": [
       "5050"
      ]
     },
     "execution_count": 18,
     "metadata": {},
     "output_type": "execute_result"
    }
   ],
   "source": [
    "# sum( ) 對答案\n",
    "sum( range(1,101) )"
   ]
  },
  {
   "cell_type": "code",
   "execution_count": 19,
   "metadata": {},
   "outputs": [
    {
     "name": "stdout",
     "output_type": "stream",
     "text": [
      "5050\n"
     ]
    }
   ],
   "source": [
    "# Method1.\n",
    "total = 0\n",
    "for i in range(1,101):\n",
    "    total = total+i\n",
    "print(total) "
   ]
  },
  {
   "cell_type": "code",
   "execution_count": 20,
   "metadata": {},
   "outputs": [
    {
     "name": "stdout",
     "output_type": "stream",
     "text": [
      "5050\n"
     ]
    }
   ],
   "source": [
    "# Method2.\n",
    "total = 0\n",
    "for i in range(1,101):\n",
    "    total +=i\n",
    "print(total)  "
   ]
  },
  {
   "cell_type": "markdown",
   "metadata": {},
   "source": [
    "### Exercise_5\n",
    "利用 for 迴圈，計算 $5!$"
   ]
  },
  {
   "cell_type": "markdown",
   "metadata": {},
   "source": [
    "> 公式： $ Factorial  = \\prod_{k=1}^{5} k $"
   ]
  },
  {
   "cell_type": "code",
   "execution_count": 21,
   "metadata": {
    "scrolled": true
   },
   "outputs": [
    {
     "name": "stdout",
     "output_type": "stream",
     "text": [
      "[1, 2, 3, 4, 5]\n"
     ]
    }
   ],
   "source": [
    "print(list(range(1,6)))"
   ]
  },
  {
   "cell_type": "code",
   "execution_count": 22,
   "metadata": {},
   "outputs": [
    {
     "name": "stdout",
     "output_type": "stream",
     "text": [
      "120\n"
     ]
    }
   ],
   "source": [
    "# Method1.\n",
    "factorial = 1\n",
    "for i in range(1,6):\n",
    "    factorial = factorial * i\n",
    "print(factorial) "
   ]
  },
  {
   "cell_type": "code",
   "execution_count": 23,
   "metadata": {},
   "outputs": [
    {
     "name": "stdout",
     "output_type": "stream",
     "text": [
      "120\n"
     ]
    }
   ],
   "source": [
    "# Method2.\n",
    "factorial = 1\n",
    "for i in range(1,6):\n",
    "    factorial *= i\n",
    "print(factorial) "
   ]
  },
  {
   "cell_type": "markdown",
   "metadata": {},
   "source": [
    "### Exercise_6\n",
    "判斷未來 Taipei 一週天氣狀況，如果溫度小於 22 度就<font color='blue'>在家</font>，否則就<font color='blue'>出門</font>\n",
    "```python\n",
    "Temperature_Taipei = [22, 24, 19, 19, 30, 21, 25]\n",
    "```"
   ]
  },
  {
   "cell_type": "code",
   "execution_count": 32,
   "metadata": {},
   "outputs": [
    {
     "name": "stdout",
     "output_type": "stream",
     "text": [
      "在家\n",
      "出門\n",
      "在家\n",
      "在家\n",
      "出門\n",
      "在家\n",
      "出門\n"
     ]
    }
   ],
   "source": [
    "for i in Temperature_Taipei :\n",
    "    if i <= 22:\n",
    "        print('在家')\n",
    "    else :\n",
    "        print('出門')"
   ]
  },
  {
   "cell_type": "markdown",
   "metadata": {},
   "source": [
    "### Exercise_7\n",
    "現在有兩個 list 分別是 未來一週 Taipei 的天氣以及星期，請找出未來一週天氣為 sunny 的星期\n",
    "\n",
    "```python\n",
    "Week = ['SUN','MON','TUE','WED','THU','FRI','SAT']\n",
    "Weather_Taipei = ['sunny','sunny','cloudy','sunny','rainy','cloudy','rainy']\n",
    "```\n",
    "> ***提示：可以利用 zip***"
   ]
  },
  {
   "cell_type": "code",
   "execution_count": 33,
   "metadata": {},
   "outputs": [
    {
     "name": "stdout",
     "output_type": "stream",
     "text": [
      "SUN\n",
      "MON\n",
      "WED\n"
     ]
    }
   ],
   "source": [
    "Week = ['SUN','MON','TUE','WED','THU','FRI','SAT']\n",
    "Weather_Taipei = ['sunny','sunny','cloudy','sunny','rainy','cloudy','rainy']\n",
    "for i , j in zip(Week,Weather_Taipei) :\n",
    "    if j != 'sunny':\n",
    "        continue \n",
    "    else :\n",
    "        print(i)  "
   ]
  },
  {
   "cell_type": "markdown",
   "metadata": {},
   "source": [
    "### Exercise_8\n",
    "設計一個可以計算 list 個數的程式\n",
    "> 提示 : 類似 計算 1 加到 100"
   ]
  },
  {
   "cell_type": "code",
   "execution_count": 34,
   "metadata": {
    "collapsed": true
   },
   "outputs": [],
   "source": [
    "def my_count( x ):\n",
    "    ''' \n",
    "    輸入：一個想要計算的list\n",
    "    回傳：該list的個數\n",
    "    '''\n",
    "    temp_count = 0\n",
    "    for i in x :\n",
    "        temp_count += 1\n",
    "    return(temp_count)"
   ]
  },
  {
   "cell_type": "code",
   "execution_count": 35,
   "metadata": {},
   "outputs": [
    {
     "data": {
      "text/plain": [
       "100"
      ]
     },
     "execution_count": 35,
     "metadata": {},
     "output_type": "execute_result"
    }
   ],
   "source": [
    "my_count(range(1,101))"
   ]
  },
  {
   "cell_type": "markdown",
   "metadata": {},
   "source": [
    "### Exercise_9\n",
    "設計一個可以計算 list 平均數的程式，並計算未來一週 Taipei 的平均溫度\n",
    "```python\n",
    "Temperature_Taipei = [22 , 24 , 19, 19, 30, 21, 25]\n",
    "```"
   ]
  },
  {
   "cell_type": "markdown",
   "metadata": {},
   "source": [
    "> 公式：$Mean=\\frac{\\sum_{i=1}^{n} x_i}{n}$"
   ]
  },
  {
   "cell_type": "code",
   "execution_count": 36,
   "metadata": {
    "collapsed": true
   },
   "outputs": [],
   "source": [
    "def my_mean( x ):\n",
    "    ''' \n",
    "    輸入：一個想要計算的list\n",
    "    回傳：該list的平均數\n",
    "    '''\n",
    "    def my_sum( x ):\n",
    "        \"Total\"\n",
    "        temp_total = 0\n",
    "        for i in x:\n",
    "            temp_total = temp_total+i\n",
    "        return temp_total    \n",
    "    def my_count( x ):\n",
    "        \"Count\"\n",
    "        temp_count = 0\n",
    "        for i in x :\n",
    "            temp_count += 1\n",
    "        return(temp_count)   \n",
    "    temp_mean = my_sum( x ) / my_count( x )\n",
    "    return temp_mean"
   ]
  },
  {
   "cell_type": "code",
   "execution_count": 37,
   "metadata": {},
   "outputs": [
    {
     "data": {
      "text/plain": [
       "22.857142857142858"
      ]
     },
     "execution_count": 37,
     "metadata": {},
     "output_type": "execute_result"
    }
   ],
   "source": [
    "my_mean(Temperature_Taipei)"
   ]
  }
 ],
 "metadata": {
  "kernelspec": {
   "display_name": "Python 3",
   "language": "python",
   "name": "python3"
  },
  "language_info": {
   "codemirror_mode": {
    "name": "ipython",
    "version": 3
   },
   "file_extension": ".py",
   "mimetype": "text/x-python",
   "name": "python",
   "nbconvert_exporter": "python",
   "pygments_lexer": "ipython3",
   "version": "3.5.1"
  }
 },
 "nbformat": 4,
 "nbformat_minor": 2
}
